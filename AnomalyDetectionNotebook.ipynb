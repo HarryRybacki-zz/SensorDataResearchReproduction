{
 "metadata": {
  "name": "",
  "signature": "sha256:25e9831032fc4f1d14e969b24e88b1f49c9b82eb2c0b8677515f9d99c9bc611d"
 },
 "nbformat": 3,
 "nbformat_minor": 0,
 "worksheets": [
  {
   "cells": [
    {
     "cell_type": "code",
     "collapsed": false,
     "input": [
      "%matplotlib inline\n",
      "\n",
      "\"\"\"CSC490 Work Notebook -- Harry Rybacki\n",
      "\n",
      "I have abided by the UNCG Academic Honor Code. 3Sep14\n",
      "\"\"\"\n",
      "\n",
      "# Import necessary statistical and plotting libraries\n",
      "import pandas as pd\n",
      "import numpy as np\n",
      "import matplotlib as plt\n",
      "import prettyplotlib as ppl\n",
      "import pprint"
     ],
     "language": "python",
     "metadata": {},
     "outputs": [],
     "prompt_number": 99
    },
    {
     "cell_type": "code",
     "collapsed": false,
     "input": [
      "#data = pd.read_csv(\"/Users/hrybacki/git/csc490/data.txt\") #Reading the dataset in a dataframe using Pandas\n",
      "filename = \"/Users/hrybacki/git/csc490/data.txt\"\n",
      "\n",
      "def read_ibrl_data(filename):\n",
      "    \"\"\"Reads ibrl data from file and returns dict mapping\n",
      "    temp./humidty sensor data to the node that collected them\n",
      "    \n",
      "    :param filename: string representing path to ibrl dataset\n",
      "    :return: dictionary mapping sensor node to list of tuples containing sensor data\n",
      "    \"\"\"\n",
      "    with open(filename, 'r') as fp:\n",
      "        sensor_data = {}\n",
      "        for line in fp:\n",
      "            line = line.strip() # remove edge whitespace\n",
      "            tokens = line.split() # segregate each section\n",
      "            #if len(tokens) != 8:\n",
      "            #    pass\n",
      "            try:\n",
      "                if len(tokens) != 8: # dump incomplete sensor readings\n",
      "                    pass\n",
      "                elif tokens[3] in sensor_data: # if sensor id is in the sensor dict\n",
      "                    sensor_data[tokens[3]].append((tokens[4], tokens[4])) # append new temp/humidity tuple\n",
      "                else:\n",
      "                    sensor_data[tokens[3]] = [(tokens[4], tokens[5])] # else create a new entry in sensor_dict and add it's respective sensor data\n",
      "            except Exception as e:\n",
      "                raise e\n",
      "    return sensor_data"
     ],
     "language": "python",
     "metadata": {},
     "outputs": [],
     "prompt_number": 100
    },
    {
     "cell_type": "code",
     "collapsed": false,
     "input": [
      "filename = \"/Users/hrybacki/git/csc490/data.txt\"\n",
      "\n",
      "sensor_data = read_ibrl_data(filename)\n",
      "print len(sensor_data.keys())\n"
     ],
     "language": "python",
     "metadata": {},
     "outputs": [
      {
       "output_type": "stream",
       "stream": "stdout",
       "text": [
        "55\n"
       ]
      }
     ],
     "prompt_number": 101
    },
    {
     "cell_type": "code",
     "collapsed": false,
     "input": [
      "temp = pd.Series(sensor_data['1'])\n",
      "print temp"
     ],
     "language": "python",
     "metadata": {},
     "outputs": [
      {
       "output_type": "stream",
       "stream": "stdout",
       "text": [
        "0     (122.153, -3.91901)\n",
        "1      (19.9884, 19.9884)\n",
        "2      (19.3024, 19.3024)\n",
        "3      (19.1652, 19.1652)\n",
        "4        (19.175, 19.175)\n",
        "5      (19.1456, 19.1456)\n",
        "6      (19.1652, 19.1652)\n",
        "7      (19.1652, 19.1652)\n",
        "8      (19.1456, 19.1456)\n",
        "9      (19.1456, 19.1456)\n",
        "10     (19.1456, 19.1456)\n",
        "11     (19.1358, 19.1358)\n",
        "12     (19.1162, 19.1162)\n",
        "13     (19.1162, 19.1162)\n",
        "14     (19.1064, 19.1064)\n",
        "...\n",
        "43032    (21.1742, 21.1742)\n",
        "43033    (21.1644, 21.1644)\n",
        "43034    (21.1546, 21.1546)\n",
        "43035    (21.1546, 21.1546)\n",
        "43036    (21.1644, 21.1644)\n",
        "43037    (21.1644, 21.1644)\n",
        "43038    (21.1448, 21.1448)\n",
        "43039    (21.1546, 21.1546)\n",
        "43040    (21.1448, 21.1448)\n",
        "43041      (21.135, 21.135)\n",
        "43042    (21.1056, 21.1056)\n",
        "43043      (21.086, 21.086)\n",
        "43044      (21.086, 21.086)\n",
        "43045    (21.0762, 21.0762)\n",
        "43046    (21.0664, 21.0664)\n",
        "Length: 43047, dtype: object\n"
       ]
      }
     ],
     "prompt_number": 103
    },
    {
     "cell_type": "code",
     "collapsed": false,
     "input": [
      "for sensor in sensor_data:\n",
      "    print sensor\n",
      "    sensor_data[sensor] = pd.Series(sensor_data[sensor])"
     ],
     "language": "python",
     "metadata": {},
     "outputs": [
      {
       "output_type": "stream",
       "stream": "stdout",
       "text": [
        "56\n",
        "54\n",
        "51\n",
        "48\n",
        "43\n",
        "49\n",
        "52\n",
        "53\n",
        "24\n",
        "25\n",
        "26\n",
        "27\n",
        "20\n",
        "21\n",
        "22\n",
        "23\n",
        "46\n",
        "47\n",
        "44\n",
        "45\n",
        "42\n",
        "29\n",
        "40\n",
        "41\n",
        "1\n",
        "3\n",
        "2\n",
        "4\n",
        "7\n",
        "6\n",
        "9\n",
        "8\n",
        "39\n",
        "38\n",
        "58\n",
        "11\n",
        "10\n",
        "13\n",
        "12\n",
        "15\n",
        "14\n",
        "17\n",
        "16\n",
        "19\n",
        "18\n",
        "31\n",
        "30\n",
        "37\n",
        "36\n",
        "35\n",
        "34"
       ]
      },
      {
       "output_type": "stream",
       "stream": "stdout",
       "text": [
        "\n",
        "33\n",
        "55\n",
        "32\n",
        "50\n"
       ]
      }
     ],
     "prompt_number": 40
    },
    {
     "cell_type": "code",
     "collapsed": false,
     "input": [],
     "language": "python",
     "metadata": {},
     "outputs": []
    },
    {
     "cell_type": "code",
     "collapsed": false,
     "input": [
      "df = pd.DataFrame(sensor_data)"
     ],
     "language": "python",
     "metadata": {},
     "outputs": [
      {
       "ename": "ValueError",
       "evalue": "arrays must all be same length",
       "output_type": "pyerr",
       "traceback": [
        "\u001b[0;31m---------------------------------------------------------------------------\u001b[0m\n\u001b[0;31mValueError\u001b[0m                                Traceback (most recent call last)",
        "\u001b[0;32m<ipython-input-38-15e0ee18e2c2>\u001b[0m in \u001b[0;36m<module>\u001b[0;34m()\u001b[0m\n\u001b[0;32m----> 1\u001b[0;31m \u001b[0mdf\u001b[0m \u001b[0;34m=\u001b[0m \u001b[0mpd\u001b[0m\u001b[0;34m.\u001b[0m\u001b[0mDataFrame\u001b[0m\u001b[0;34m(\u001b[0m\u001b[0msensor_data\u001b[0m\u001b[0;34m)\u001b[0m\u001b[0;34m\u001b[0m\u001b[0m\n\u001b[0m",
        "\u001b[0;32m/Users/hrybacki/.virtualenvs/treedata/lib/python2.7/site-packages/pandas/core/frame.pyc\u001b[0m in \u001b[0;36m__init__\u001b[0;34m(self, data, index, columns, dtype, copy)\u001b[0m\n\u001b[1;32m    201\u001b[0m                                  dtype=dtype, copy=copy)\n\u001b[1;32m    202\u001b[0m         \u001b[0;32melif\u001b[0m \u001b[0misinstance\u001b[0m\u001b[0;34m(\u001b[0m\u001b[0mdata\u001b[0m\u001b[0;34m,\u001b[0m \u001b[0mdict\u001b[0m\u001b[0;34m)\u001b[0m\u001b[0;34m:\u001b[0m\u001b[0;34m\u001b[0m\u001b[0m\n\u001b[0;32m--> 203\u001b[0;31m             \u001b[0mmgr\u001b[0m \u001b[0;34m=\u001b[0m \u001b[0mself\u001b[0m\u001b[0;34m.\u001b[0m\u001b[0m_init_dict\u001b[0m\u001b[0;34m(\u001b[0m\u001b[0mdata\u001b[0m\u001b[0;34m,\u001b[0m \u001b[0mindex\u001b[0m\u001b[0;34m,\u001b[0m \u001b[0mcolumns\u001b[0m\u001b[0;34m,\u001b[0m \u001b[0mdtype\u001b[0m\u001b[0;34m=\u001b[0m\u001b[0mdtype\u001b[0m\u001b[0;34m)\u001b[0m\u001b[0;34m\u001b[0m\u001b[0m\n\u001b[0m\u001b[1;32m    204\u001b[0m         \u001b[0;32melif\u001b[0m \u001b[0misinstance\u001b[0m\u001b[0;34m(\u001b[0m\u001b[0mdata\u001b[0m\u001b[0;34m,\u001b[0m \u001b[0mma\u001b[0m\u001b[0;34m.\u001b[0m\u001b[0mMaskedArray\u001b[0m\u001b[0;34m)\u001b[0m\u001b[0;34m:\u001b[0m\u001b[0;34m\u001b[0m\u001b[0m\n\u001b[1;32m    205\u001b[0m             \u001b[0;32mimport\u001b[0m \u001b[0mnumpy\u001b[0m\u001b[0;34m.\u001b[0m\u001b[0mma\u001b[0m\u001b[0;34m.\u001b[0m\u001b[0mmrecords\u001b[0m \u001b[0;32mas\u001b[0m \u001b[0mmrecords\u001b[0m\u001b[0;34m\u001b[0m\u001b[0m\n",
        "\u001b[0;32m/Users/hrybacki/.virtualenvs/treedata/lib/python2.7/site-packages/pandas/core/frame.pyc\u001b[0m in \u001b[0;36m_init_dict\u001b[0;34m(self, data, index, columns, dtype)\u001b[0m\n\u001b[1;32m    325\u001b[0m \u001b[0;34m\u001b[0m\u001b[0m\n\u001b[1;32m    326\u001b[0m         return _arrays_to_mgr(arrays, data_names, index, columns,\n\u001b[0;32m--> 327\u001b[0;31m                               dtype=dtype)\n\u001b[0m\u001b[1;32m    328\u001b[0m \u001b[0;34m\u001b[0m\u001b[0m\n\u001b[1;32m    329\u001b[0m     def _init_ndarray(self, values, index, columns, dtype=None,\n",
        "\u001b[0;32m/Users/hrybacki/.virtualenvs/treedata/lib/python2.7/site-packages/pandas/core/frame.pyc\u001b[0m in \u001b[0;36m_arrays_to_mgr\u001b[0;34m(arrays, arr_names, index, columns, dtype)\u001b[0m\n\u001b[1;32m   4618\u001b[0m     \u001b[0;31m# figure out the index, if necessary\u001b[0m\u001b[0;34m\u001b[0m\u001b[0;34m\u001b[0m\u001b[0m\n\u001b[1;32m   4619\u001b[0m     \u001b[0;32mif\u001b[0m \u001b[0mindex\u001b[0m \u001b[0;32mis\u001b[0m \u001b[0mNone\u001b[0m\u001b[0;34m:\u001b[0m\u001b[0;34m\u001b[0m\u001b[0m\n\u001b[0;32m-> 4620\u001b[0;31m         \u001b[0mindex\u001b[0m \u001b[0;34m=\u001b[0m \u001b[0mextract_index\u001b[0m\u001b[0;34m(\u001b[0m\u001b[0marrays\u001b[0m\u001b[0;34m)\u001b[0m\u001b[0;34m\u001b[0m\u001b[0m\n\u001b[0m\u001b[1;32m   4621\u001b[0m     \u001b[0;32melse\u001b[0m\u001b[0;34m:\u001b[0m\u001b[0;34m\u001b[0m\u001b[0m\n\u001b[1;32m   4622\u001b[0m         \u001b[0mindex\u001b[0m \u001b[0;34m=\u001b[0m \u001b[0m_ensure_index\u001b[0m\u001b[0;34m(\u001b[0m\u001b[0mindex\u001b[0m\u001b[0;34m)\u001b[0m\u001b[0;34m\u001b[0m\u001b[0m\n",
        "\u001b[0;32m/Users/hrybacki/.virtualenvs/treedata/lib/python2.7/site-packages/pandas/core/frame.pyc\u001b[0m in \u001b[0;36mextract_index\u001b[0;34m(data)\u001b[0m\n\u001b[1;32m   4666\u001b[0m             \u001b[0mlengths\u001b[0m \u001b[0;34m=\u001b[0m \u001b[0mlist\u001b[0m\u001b[0;34m(\u001b[0m\u001b[0mset\u001b[0m\u001b[0;34m(\u001b[0m\u001b[0mraw_lengths\u001b[0m\u001b[0;34m)\u001b[0m\u001b[0;34m)\u001b[0m\u001b[0;34m\u001b[0m\u001b[0m\n\u001b[1;32m   4667\u001b[0m             \u001b[0;32mif\u001b[0m \u001b[0mlen\u001b[0m\u001b[0;34m(\u001b[0m\u001b[0mlengths\u001b[0m\u001b[0;34m)\u001b[0m \u001b[0;34m>\u001b[0m \u001b[0;36m1\u001b[0m\u001b[0;34m:\u001b[0m\u001b[0;34m\u001b[0m\u001b[0m\n\u001b[0;32m-> 4668\u001b[0;31m                 \u001b[0;32mraise\u001b[0m \u001b[0mValueError\u001b[0m\u001b[0;34m(\u001b[0m\u001b[0;34m'arrays must all be same length'\u001b[0m\u001b[0;34m)\u001b[0m\u001b[0;34m\u001b[0m\u001b[0m\n\u001b[0m\u001b[1;32m   4669\u001b[0m \u001b[0;34m\u001b[0m\u001b[0m\n\u001b[1;32m   4670\u001b[0m             \u001b[0;32mif\u001b[0m \u001b[0mhave_dicts\u001b[0m\u001b[0;34m:\u001b[0m\u001b[0;34m\u001b[0m\u001b[0m\n",
        "\u001b[0;31mValueError\u001b[0m: arrays must all be same length"
       ]
      }
     ],
     "prompt_number": 38
    },
    {
     "cell_type": "heading",
     "level": 2,
     "metadata": {},
     "source": [
      "temp2"
     ]
    },
    {
     "cell_type": "code",
     "collapsed": false,
     "input": [
      "temp2"
     ],
     "language": "python",
     "metadata": {},
     "outputs": [],
     "prompt_number": 29
    },
    {
     "cell_type": "code",
     "collapsed": false,
     "input": [],
     "language": "python",
     "metadata": {},
     "outputs": []
    }
   ],
   "metadata": {}
  }
 ]
}