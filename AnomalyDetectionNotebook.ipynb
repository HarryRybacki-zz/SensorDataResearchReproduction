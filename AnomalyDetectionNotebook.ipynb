{
 "metadata": {
  "name": "",
  "signature": "sha256:67d33575269c9c4c57dc5d76147e77ca5c47b8e7caf96ae8dfb9afb3e34c0421"
 },
 "nbformat": 3,
 "nbformat_minor": 0,
 "worksheets": [
  {
   "cells": [
    {
     "cell_type": "code",
     "collapsed": false,
     "input": [
      "%matplotlib inline\n",
      "\n",
      "\"\"\"CSC490 Work Notebook -- Harry Rybacki\n",
      "I have abided by the UNCG Academic Honor Code. 3Sep14\n",
      "\"\"\"\n",
      "\n",
      "# Import necessary libraries\n",
      "import math\n",
      "import matplotlib.pyplot as pyplot\n",
      "\n",
      "#import matplotlib as plt\n",
      "#import prettyplotlib as ppl\n",
      "import pprint\n",
      "\n",
      "import helpers"
     ],
     "language": "python",
     "metadata": {},
     "outputs": [],
     "prompt_number": 2
    },
    {
     "cell_type": "heading",
     "level": 2,
     "metadata": {},
     "source": [
      "Phase One - Read Input"
     ]
    },
    {
     "cell_type": "code",
     "collapsed": false,
     "input": [
      "\"\"\"\n",
      "Begin phase one - Read Input\n",
      "\n",
      "Note: This phase will need slight tweaking for each data source as they do not follow a truly standard data format.\n",
      "As a result, interfaces will likely need to be written for each source akin to read_ibrl_data()\n",
      "\n",
      "Note: While I had originally intended to use Pandas DataFrame objects to store / manipulate the data I opted out as\n",
      "it expects each column (sensor) to be of the same length (number of measurements) but that isn't the case with the IBRL\n",
      "dataset. I could cast each column to a Pandas Series (1 dimensional vector object) and add each Series to the DataFrame\n",
      "but that might be overkill. For know I am using a simple dictionary mapping each sensor to a list of tuples containing\n",
      "temperature and humidity data.\n",
      "\"\"\"\n",
      "# location of IBRL sensor measurements dataset\n",
      "ibrl_sensor_measurements_file = \"./datasets/Reduced2530K.csv\"\n",
      "\n",
      "# Create dictionary of original sensors mapping to their measurements\n",
      "# x1, x2, ..., xn where xi = (ti', hi') and X = (T, H)\n",
      "measurements = helpers.read_ibrl_data(ibrl_sensor_measurements_file)"
     ],
     "language": "python",
     "metadata": {},
     "outputs": [
      {
       "output_type": "stream",
       "stream": "stdout",
       "text": [
        "Total rows: 171848\n",
        "Total incomplete rows: 0\n"
       ]
      }
     ],
     "prompt_number": 40
    },
    {
     "cell_type": "code",
     "collapsed": false,
     "input": [
      "def read_ibrl_data(data_file):\n",
      "    \"\"\"Reads IBRL data from file and returns dict mapping\n",
      "    temp./humidity sensor data to the node that collected them\n",
      "\n",
      "    :param data_file: string representing path to ibrl dataset\n",
      "    :return: dictionary mapping sensor node to list of tuples containing sensor data\n",
      "    \"\"\"\n",
      "    with open(data_file, 'r') as fp:\n",
      "        row_count = 0\n",
      "        bad_count = 0\n",
      "        measurements = {}\n",
      "        count = 0\n",
      "        for line in fp:\n",
      "\n",
      "            row_count = row_count + 1\n",
      "            line = line.strip() # remove edge whitespace\n",
      "            tokens = line.split() # segregate each section\n",
      "\n",
      "            try:\n",
      "                if len(tokens) != 8: # dump incomplete sensor readings\n",
      "                    bad_count = bad_count + 1\n",
      "                elif tokens[3] in measurements: # if sensor id is in the sensor dict\n",
      "                    # append new temp/humidity tuple\n",
      "                    measurements[tokens[3]].append((float(tokens[4]), float(tokens[5])))\n",
      "                else:\n",
      "                    # else create a new entry in sensor_dict and add it's respective sensor data\n",
      "                    measurements[tokens[3]] = [(float(tokens[4]), float(tokens[5]))]\n",
      "            except Exception as e:\n",
      "                raise e\n",
      "        print \"Total rows: %s\" % row_count\n",
      "        print \"Total incomplete rows: %s\" % bad_count\n",
      "    return measurements\n",
      "\n",
      "test = read_ibrl_data(ibrl_sensor_measurements_file)"
     ],
     "language": "python",
     "metadata": {},
     "outputs": [
      {
       "output_type": "stream",
       "stream": "stdout",
       "text": [
        "Total rows: 171848\n",
        "Total incomplete rows: 171848\n"
       ]
      }
     ],
     "prompt_number": 41
    },
    {
     "cell_type": "heading",
     "level": 2,
     "metadata": {},
     "source": [
      "Phase Two - Process Data"
     ]
    },
    {
     "cell_type": "heading",
     "level": 3,
     "metadata": {},
     "source": [
      "Perform Transformation"
     ]
    },
    {
     "cell_type": "code",
     "collapsed": false,
     "input": [
      "\"\"\"\n",
      "Begin phase two - Process Data\n",
      "\"\"\"\n",
      "# 1A - Transformation\n",
      "#TODO(hrybacki): MOVE THIS TO HELPERS.py\n",
      "#TODO(hrybacki): DO THIS TO THE SUCCESSIVE DIFFERENCES NOT THE ORIGINAL DATA\n",
      "def standardize_readings(dictionary):\n",
      "    \"\"\"Standardize sensor readings\n",
      "    :param dictionary: dictionary of sensors whose readings need to be normalized\n",
      "    :return: dictionary mapping sensors to normalized lists of temp .and humidity readings\n",
      "    \"\"\"\n",
      "    for sensor, readings in dictionary.iteritems():\n",
      "        temp_readings = [reading[0] for reading in readings]\n",
      "        humidity_readings = [reading[1] for reading in readings]\n",
      "\n",
      "        temp_mean = helpers.calculate_mean(temp_readings)\n",
      "        humidity_mean = helpers.calculate_mean(humidity_readings)\n",
      "\n",
      "        temp_sd, humidity_sd = helpers.calculate_std_dev(readings)\n",
      "\n",
      "        standardized_readings = []\n",
      "        \n",
      "        for reading in readings:\n",
      "            standardized_readings.append(\n",
      "                (((reading[0] - temp_mean) / temp_sd), \n",
      "                 ((reading[1] - humidity_mean) / humidity_sd)))\n",
      "        \n",
      "        dictionary[sensor] = standardized_readings          \n",
      "            \n",
      "    return dictionary\n",
      "            \n",
      "# Shuffle measurements \n",
      "# y1, y2, ..., yn\n",
      "shuffled_measurements = helpers.randomize_readings(measurements)\n",
      "\n",
      "# Calculate successive differences and construct the lookup table\n",
      "# p1 = y2-y1, p2 = y3-y2, ... pn-1 = yn - yn-1 where pi = (ti, hi) and P = (T', H')\n",
      "differences, lookup_table = helpers.generate_differences(shuffled_measurements)\n",
      "\n",
      "# Standardize the differences\n",
      "differences = standardize_readings(differences)"
     ],
     "language": "python",
     "metadata": {},
     "outputs": [],
     "prompt_number": 84
    },
    {
     "cell_type": "heading",
     "level": 3,
     "metadata": {},
     "source": [
      "Perform Ellipsoid boundary Modeling"
     ]
    },
    {
     "cell_type": "code",
     "collapsed": false,
     "input": [
      "################ INCOMPLETE ################\n",
      "\n",
      "# 1B - Ellipsoid Boundary Modeling\n",
      "\n",
      "sensor_ellipsoids = {} # Dict for storing individual sensor ellipsoid data\n",
      "\n",
      "# Model ellipsoid for each sensor with data\n",
      "for sensor in differences:\n",
      "    sensor_ellipsoids[sensor] = helpers.model_ellipsoid(differences[sensor])\n",
      "    \n",
      "# Calculate the aggregate ellipsoid\n",
      "aggregate_ellipsoid = helpers.model_aggregate_ellipsoid(sensor_ellipsoids)"
     ],
     "language": "python",
     "metadata": {},
     "outputs": []
    },
    {
     "cell_type": "heading",
     "level": 3,
     "metadata": {},
     "source": [
      "Perform Inverse Transformation"
     ]
    },
    {
     "cell_type": "code",
     "collapsed": false,
     "input": [
      "################ INCOMPLETE ################\n",
      "\n",
      "# 1C - Inverse Transformation\n",
      "\n",
      "# Segregate anomalies from true measurements\n",
      "true_measurements, anomalies = helpers.inverse_transformation(lookup_table, aggregate_ellipsoid)"
     ],
     "language": "python",
     "metadata": {},
     "outputs": [],
     "prompt_number": 5
    },
    {
     "cell_type": "heading",
     "level": 2,
     "metadata": {},
     "source": [
      "Phase Four - Visually Model Data"
     ]
    },
    {
     "cell_type": "code",
     "collapsed": false,
     "input": [
      "################ INCOMPLETE ################\n",
      "\n",
      "\"\"\"\n",
      "Begin phase four - Visually model data\n",
      "\"\"\"\n",
      "\n",
      "# Relevant imports for plotting\n",
      "from pylab import figure, show, rand\n",
      "from matplotlib.patches import Ellipse\n",
      "\n",
      "# FIXME(hrybacki): This is just an example. Working examples from actual functions are below\n",
      "\n",
      "# Generate example ellipsoid\n",
      "NUM = 1\n",
      "ells = [Ellipse(xy=rand(2)*10, width=rand()+5, height=rand()+4, angle=rand()*360)\n",
      "        for i in range(NUM)]\n",
      "fig = figure()\n",
      "ax = fig.add_subplot(111, aspect='equal')\n",
      "for e in ells:\n",
      "    ax.add_artist(e)\n",
      "    e.set_clip_box(ax.bbox)\n",
      "    e.set_alpha(rand())\n",
      "    e.set_facecolor(rand(3))\n",
      "\n",
      "ax.set_xlim(0, 10)\n",
      "ax.set_ylim(0, 10)\n",
      "\n",
      "# Add true measurements in blue\n",
      "for reading in true_measurements:\n",
      "    fig.plot(reading, 'bo')\n",
      "\n",
      "# Add anomalies in red\n",
      "for reading in anamolies:\n",
      "    fig.plot(reading, 'ro')\n",
      "\n",
      "show()"
     ],
     "language": "python",
     "metadata": {},
     "outputs": [
      {
       "metadata": {},
       "output_type": "display_data",
       "png": "[encoded data removed]",
       "text": [
        "<matplotlib.figure.Figure at 0x120da0110>"
       ]
      }
     ],
     "prompt_number": 30
    },
    {
     "cell_type": "heading",
     "level": 3,
     "metadata": {},
     "source": [
      "Save Plot?"
     ]
    },
    {
     "cell_type": "code",
     "collapsed": false,
     "input": [
      "# save plot to disk\n",
      "filename = \"\" + \".png\"\n",
      "fig.save(filename)"
     ],
     "language": "python",
     "metadata": {},
     "outputs": []
    },
    {
     "cell_type": "code",
     "collapsed": false,
     "input": [
      "print \"Completed...\""
     ],
     "language": "python",
     "metadata": {},
     "outputs": [
      {
       "output_type": "stream",
       "stream": "stdout",
       "text": [
        "Completed...\n"
       ]
      }
     ],
     "prompt_number": 20
    },
    {
     "cell_type": "heading",
     "level": 2,
     "metadata": {},
     "source": [
      "Begin Testing:"
     ]
    },
    {
     "cell_type": "code",
     "collapsed": true,
     "input": [
      "sample_data_differences = [\n",
      "(0.196, -0.0681),\n",
      "(0.0098, 0.034),\n",
      "(102.978, -42.7569),\n",
      "(-102.988, 42.7229),\n",
      "(-0.0196, 0.034),\n",
      "(0.1568, -0.375),\n",
      "(-0.1568,0.4772),\n",
      "(0.0196,-0.0681),\n",
      "(0.8223, -1.7787)\n",
      "]"
     ],
     "language": "python",
     "metadata": {},
     "outputs": [],
     "prompt_number": 5
    },
    {
     "cell_type": "code",
     "collapsed": false,
     "input": [
      "pyplot.plot([reading[0] for reading in sample_data_differences],\n",
      "            [reading[1] for reading in sample_data_differences],\n",
      "            'ro')\n",
      "pyplot.axis([-2, 2, -2, 2]) # [xmin, xmax, ymin, ymax]\n",
      "pyplot.show()\n",
      "\n",
      "print [reading[0] for reading in sample_data_differences]"
     ],
     "language": "python",
     "metadata": {},
     "outputs": [
      {
       "metadata": {},
       "output_type": "display_data",
       "png": "[encoded data removed]",
       "text": [
        "<matplotlib.figure.Figure at 0x113123050>"
       ]
      },
      {
       "output_type": "stream",
       "stream": "stdout",
       "text": [
        "[0.196, 0.0098, 102.978, -102.988, -0.0196, 0.1568, -0.1568, 0.0196, 0.8223]\n"
       ]
      }
     ],
     "prompt_number": 6
    },
    {
     "cell_type": "heading",
     "level": 2,
     "metadata": {},
     "source": [
      "Functions to be ported to helpers.py"
     ]
    },
    {
     "cell_type": "code",
     "collapsed": false,
     "input": [
      "def calc_A(a, b, theta):\n",
      "    \"\"\" Returns the A value used in ellipsoid boundary modeling\n",
      "    \n",
      "    :param a: represents the major axis of the ellipsoid\n",
      "    :param b: represents the mini axix os the ellipsoid\n",
      "    :param theta: represents the orrientation of the raw measurements \n",
      "    :return: A value used in ellipsoid boundary modeling\n",
      "    \"\"\"\n",
      "    A = (math.pow(math.sin(theta), 2) / math.pow(a, 2)) + (math.pow(math.cos(theta), 2) / math.pow(b, 2))\n",
      "    \n",
      "    return A\n",
      "\n",
      "def calc_B(a, b, ti, theta):\n",
      "    \"\"\" Returns the B value used in ellipsoid boundary modeling\n",
      "    \n",
      "    :param a: represents the major axis of the ellipsoid\n",
      "    :param b: represents the mini axix os the ellipsoid\n",
      "    :param ti: temperature (independant variable) used in calculation\n",
      "    :param theta: represents the orrientation of the raw measurements  \n",
      "    :return: B value used in ellipsoid boundary modeling\n",
      "    \"\"\" \n",
      "    B = ((1/math.pow(a, 2)) + (1/math.pow(b, 2))) * ti * math.sin(2*theta)\n",
      "    \n",
      "    return B\n",
      "\n",
      "def calc_C(a, b, ti, theta):\n",
      "    \"\"\" Returns the C value used in ellipsoid boundary modeling\n",
      "   \n",
      "    :param a: represents the major axis of the ellipsoid\n",
      "    :param b: represents the mini axix os the ellipsoid\n",
      "    :param ti: temperature (independant variable) used in calculation\n",
      "    :param theta: represents the orrientation of the raw measurements \n",
      "    :return: C value used in ellipsoid boundary modeling\n",
      "    \"\"\"\n",
      "    C = ((math.pow(ti, 2) * math.pow(math.cos(theta), 2)) / math.pow(a, 2)) + \\\n",
      "        ((math.pow(ti, 2) * math.pow(math.sin(theta), 2)) / math.pow(b, 2)) -1 \n",
      "    \n",
      "    return C\n",
      "\n",
      "def calc_hi1(A, B, C, theta):\n",
      "    \"\"\" Calculates the upper point for a given temp modeling an ellipsoid\n",
      "    \n",
      "    :param A: A value used in ellipsoid boundary modeling\n",
      "    :param B: B value used in ellipsoid boundary modeling\n",
      "    :param C: C value used in ellipsoid boundary modeling\n",
      "    :return: Upper point for given temperature\n",
      "    \"\"\"\n",
      "    hi1 = (-B + math.sqrt(math.pow(B, 2) - (-4*A*C))) / (2*A)\n",
      "    \n",
      "    return hi1\n",
      "\n",
      "def calc_hi2(A, B, C, theta):\n",
      "    \"\"\" Calculates the lower point for a given temp modeling an ellipsoid\n",
      "    \n",
      "    :param A: A value used in ellipsoid boundary modeling\n",
      "    :param B: B value used in ellipsoid boundary modeling\n",
      "    :param C: C value used in ellipsoid boundary modeling\n",
      "    :return: Lower point for given temperature\n",
      "    \"\"\"\n",
      "    hi2 = (-B - math.sqrt(math.pow(B, 2) - (-4*A*C))) / (2*A)\n",
      "    \n",
      "    return hi2\n",
      "\n",
      "def generate_ellipsoid(sensor_readings, a, b):\n",
      "    \"\"\"Calculates points representing an ellipsoid for a given a and b \n",
      "    over a set of sensor readings.\n",
      "    \n",
      "    :param sensor_readings: list of tuples representing sensor readings\n",
      "    :param a: a parameter used in calculating ellipsoid parameters\n",
      "    :param b: b parameter used in calculating ellipsoid parameters\n",
      "    :return: ellipsoid_parameters: dictionary containing parameters used in creation of\n",
      "    as well as results from modeling ellipsoid boundaries\n",
      "    \"\"\"\n",
      "    min_temp, max_temp = helpers.get_min_max_temp(sensor_readings)\n",
      "    theta = math.fabs(helpers.calculate_ellipsoid_orientation(sensor_readings))\n",
      "    print \"Theta: %s\" % theta\n",
      "    A = calc_A(a, b, theta) # A is independant of the temperatures\n",
      "    \n",
      "    ellipsoid_parameters = {\n",
      "        'a': a,\n",
      "        'b': b,\n",
      "        'theta': theta,\n",
      "        'original_sensor_readings': sensor_readings,\n",
      "        'ellipsoid_points': []\n",
      "    }\n",
      "    \n",
      "    #@TODO(hrybcki): This currently only steps up with ints. Need to make a more granular adjustment metric.\n",
      "    # Starting at the minimum temp for a given set of sensor readings, calculate the respective 'hi1' and 'hi2'\n",
      "    # that represent the upper and lower ellipsoid points for a given temp.\n",
      "    # Make this loop calculate hi1/hi2 for EACH temperature in the dataset not the min/max range\n",
      "    #for temp in range(min_temp, max_temp+1):\n",
      "    for reading in sensor_readings:\n",
      "        #print \"Temp: %s\" % temp\n",
      "        B = calc_B(a, b, reading[0], theta)\n",
      "        C = calc_C(a, b, reading[0], theta)\n",
      "        hi1 = calc_hi1(A, B, C, theta)\n",
      "        ellipsoid_parameters['ellipsoid_points'].append((reading[0], hi1))\n",
      "        hi2 = calc_hi2(A, B, C, theta)\n",
      "        ellipsoid_parameters['ellipsoid_points'].append((reading[0], hi2))\n",
      "        \n",
      "    return ellipsoid_parameters\n",
      "\n",
      "'''\n",
      "def generate_regional_ellipsoid_parameters(ellipsoid_parameters):\n",
      "    \"\"\" Generates the aggregate ellipsoid parameters from a list of ellipsoids within a region\n",
      "    \n",
      "    :param ellipsoid_parameters: list of dictionaries representing ellispoid parameters from individual sensors\n",
      "    :return: dictionary representing the aggregate ellipsoid paremeters for a given region\n",
      "    #@TODO(hrybacki): impliment after figuring out the ellipsoid stuff\n",
      "    \n",
      "    pass\n",
      "'''"
     ],
     "language": "python",
     "metadata": {},
     "outputs": [
      {
       "metadata": {},
       "output_type": "pyout",
       "prompt_number": 96,
       "text": [
        "'\\ndef generate_regional_ellipsoid_parameters(ellipsoid_parameters):\\n    \"\"\" Generates the aggregate ellipsoid parameters from a list of ellipsoids within a region\\n    \\n    :param ellipsoid_parameters: list of dictionaries representing ellispoid parameters from individual sensors\\n    :return: dictionary representing the aggregate ellipsoid paremeters for a given region\\n    #@TODO(hrybacki): impliment after figuring out the ellipsoid stuff\\n    \\n    pass\\n'"
       ]
      }
     ],
     "prompt_number": 96
    },
    {
     "cell_type": "heading",
     "level": 3,
     "metadata": {},
     "source": [
      "Mock data used for testing the new helper functions"
     ]
    },
    {
     "cell_type": "code",
     "collapsed": false,
     "input": [
      "print calc_A(1, 2, 0.4)\n",
      "print calc_B(1, 2, 3, .4)\n",
      "print calc_C(1, 2, 3, .4)\n",
      "print calc_hi1(1, 2, 3, -.9)\n",
      "print calc_hi2(1, 2, 3, -.9)\n",
      "params = generate_ellipsoid(differences['31'], 1.7601, 4.1168)"
     ],
     "language": "python",
     "metadata": {},
     "outputs": [
      {
       "output_type": "stream",
       "stream": "stdout",
       "text": [
        "0.363734983995\n",
        "2.69008534087\n",
        "7.97638514405\n",
        "1.0\n",
        "-3.0\n",
        "Theta: 0.718188201438\n"
       ]
      }
     ],
     "prompt_number": 93
    },
    {
     "cell_type": "heading",
     "level": 2,
     "metadata": {},
     "source": [
      "Using sensor 31 (it's easy to compare as it's in the paper) to test the ellipsoid boundary modeling"
     ]
    },
    {
     "cell_type": "code",
     "collapsed": false,
     "input": [
      "# Insantiate a new figure\n",
      "pyplot.figure(2)\n",
      "\n",
      "# Grab the min/max temp for sensor 31\n",
      "min_temp, max_temp = helpers.get_min_max_temp(differences['3'])\n",
      "print \"Min temp: %s, Max Temp: %s\" % (min_temp, max_temp)\n",
      "\n",
      "# Determine the orrientation of the raw measurements from sensor 31\n",
      "theta = math.fabs(helpers.calculate_ellipsoid_orientation(differences['3']))\n",
      "print \"Theta: %s\" % theta\n",
      "\n",
      "# Plot the successive differences from sensor 31\n",
      "pyplot.subplot(311)\n",
      "pyplot.plot([reading[0] for reading in differences['31']],\n",
      "            [reading[1] for reading in differences['31']])\n",
      "pyplot.xlabel('Temperature')\n",
      "pyplot.ylabel('Humidity')\n",
      "pyplot.title('Successive Differences from Sensor 31') \n",
      "\n",
      "# Plot the points calculated that represent the ellipseoid's boundary sensor 31\n",
      "pyplot.subplot(312)\n",
      "pyplot.plot([reading[0] for reading in params['ellipsoid_points']],\n",
      "            [reading[1] for reading in params['ellipsoid_points']],\n",
      "            'ro')\n",
      "pyplot.xlabel('Temperature')\n",
      "pyplot.ylabel('Humidity')\n",
      "pyplot.title('ellipsoid generated from sensor31')\n",
      "\n",
      "# Group the subplots and display below\n",
      "pyplot.tight_layout()\n",
      "pyplot.show()"
     ],
     "language": "python",
     "metadata": {},
     "outputs": [
      {
       "output_type": "stream",
       "stream": "stdout",
       "text": [
        "Min temp: -2, Max Temp: 2\n",
        "Theta: 0.472560793477\n"
       ]
      },
      {
       "metadata": {},
       "output_type": "display_data",
       "png": "[encoded data removed]",
       "text": [
        "<matplotlib.figure.Figure at 0x109812790>"
       ]
      }
     ],
     "prompt_number": 95
    },
    {
     "cell_type": "markdown",
     "metadata": {},
     "source": [
      "Here we can see that the ellipsoid modeling isn't quite working as we would hope. I need Dr. Shan to review the process i've used (the new helper functions).\n",
      "\n",
      "1. Each sensor calculates its ellipsoid parameters and sends them to the base station. Above I have used sensor 31 in the this fashion. Once each sensor has calculated it's 'ellipsoid parameters' and send them to the base station, how does the base station determine the overall ellipsoid? What is that algorithm?\n",
      "  * **I went a head and mocked up a method for handling this that I will impliment after we disucss how to represent ellipsoids per question 3.**\n",
      "2. In the paper, sensor 31 has temp bounds of -3 to 3 not -12, 12. Why and how? Did Dr. Shan's team manipulate the readings before calculating the successive differences? If so, what and how. What is the alorithm?\n",
      "  * **Done: this wasn't readily apparent in the paper was it? If so, where?**\n",
      "1. pyplot was based off of matlab plotting. How does matlab plot ellipses? Pyplot takes a center point, orrientation, height, and width. That's quite different than determining the points that outline the ellipse and then 'connecting the dots.' I'm a bit confused as to how I should work this.\n"
     ]
    },
    {
     "cell_type": "code",
     "collapsed": false,
     "input": [],
     "language": "python",
     "metadata": {},
     "outputs": [],
     "prompt_number": 64
    },
    {
     "cell_type": "code",
     "collapsed": false,
     "input": [],
     "language": "python",
     "metadata": {},
     "outputs": []
    }
   ],
   "metadata": {}
  }
 ]
}