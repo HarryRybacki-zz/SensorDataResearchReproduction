{
 "metadata": {
  "name": "",
  "signature": "sha256:02807eb0df35b4ceb1528e709e7adbf43b26a36104ad8fdb7a9bcebe9f25fd2a"
 },
 "nbformat": 3,
 "nbformat_minor": 0,
 "worksheets": [
  {
   "cells": [
    {
     "cell_type": "code",
     "collapsed": false,
     "input": [
      "%matplotlib inline\n",
      "\n",
      "\"\"\"CSC490 Work Notebook -- Harry Rybacki\n",
      "I have abided by the UNCG Academic Honor Code. 3Sep14\n",
      "\"\"\"\n",
      "\n",
      "# Import necessary libraries\n",
      "import matplotlib as plt\n",
      "import prettyplotlib as ppl\n",
      "import pprint\n",
      "\n",
      "import helpers"
     ],
     "language": "python",
     "metadata": {},
     "outputs": [],
     "prompt_number": 1
    },
    {
     "cell_type": "heading",
     "level": 2,
     "metadata": {},
     "source": [
      "Phase One - Read Input"
     ]
    },
    {
     "cell_type": "code",
     "collapsed": false,
     "input": [
      "\"\"\"\n",
      "Begin phase one - Read Input\n",
      "\n",
      "Note: This phase will need slight tweaking for each data source as they do not follow a truly standard data format.\n",
      "As a result, interfaces will likely need to be written for each source akin to read_ibrl_data()\n",
      "\n",
      "Note: While I had originally intended to use Pandas DataFrame objects to store / manipulate the data I opted out as\n",
      "it expects each column (sensor) to be of the same length (number of measurements) but that isn't the case with the IBRL\n",
      "dataset. I could cast each column to a Pandas Series (1 dimensional vector object) and add each Series to the DataFrame\n",
      "but that might be overkill. For know I am using a simple dictionary mapping each sensor to a list of tuples containing\n",
      "temperature and humidity data.\n",
      "\"\"\"\n",
      "# location of IBRL sensor measurements dataset\n",
      "ibrl_sensor_measurements_file = \"./datasets/data2.txt\"\n",
      "\n",
      "# Create dictionary of original sensors mapping to their measurements\n",
      "# x1, x2, ..., xn where xi = (ti', hi') and X = (T, H)\n",
      "measurements = helpers.read_ibrl_data(ibrl_sensor_measurements_file)"
     ],
     "language": "python",
     "metadata": {},
     "outputs": [
      {
       "output_type": "stream",
       "stream": "stdout",
       "text": [
        "Total rows: 2313153\n",
        "Total incomplete rows: 93350\n"
       ]
      }
     ],
     "prompt_number": 2
    },
    {
     "cell_type": "heading",
     "level": 2,
     "metadata": {},
     "source": [
      "Phase Two - Process Data"
     ]
    },
    {
     "cell_type": "heading",
     "level": 3,
     "metadata": {},
     "source": [
      "Perform Transformation"
     ]
    },
    {
     "cell_type": "code",
     "collapsed": false,
     "input": [
      "\"\"\"\n",
      "Begin phase two - Process Data\n",
      "\"\"\"\n",
      "# 1A - Transformation\n",
      "\n",
      "# Shuffle measurements \n",
      "# y1, y2, ..., yn\n",
      "shuffled_measurements = helpers.randomize_readings(measurements)\n",
      "\n",
      "# Calculate successive differences and construct the lookup table\n",
      "# p1 = y2-y1, p2 = y3-y2, ... pn-1 = yn - yn-1 where pi = (ti, hi) and P = (T', H')\n",
      "differences, lookup_table = helpers.generate_differences(shuffled_measurements)"
     ],
     "language": "python",
     "metadata": {},
     "outputs": [],
     "prompt_number": 3
    },
    {
     "cell_type": "heading",
     "level": 3,
     "metadata": {},
     "source": [
      "Perform Ellipsoid boundary Modeling"
     ]
    },
    {
     "cell_type": "code",
     "collapsed": false,
     "input": [
      "# 1B - Ellipsoid Boundary Modeling\n",
      "\n",
      "sensor_ellipsoids = {} # Dict for storing individual sensor ellipsoid data\n",
      "\n",
      "# Model ellipsoid for each sensor with data\n",
      "for sensor in differences:\n",
      "    sensor_ellipsoids[sensor] = helpers.model_ellipsoid(differences[sensor])\n",
      "    \n",
      "# Calculate the aggregate ellipsoid\n",
      "aggregate_ellipsoid = helpers.model_aggregate_ellipsoid(sensor_ellipsoids)"
     ],
     "language": "python",
     "metadata": {},
     "outputs": []
    },
    {
     "cell_type": "heading",
     "level": 3,
     "metadata": {},
     "source": [
      "Perform Inverse Transformation"
     ]
    },
    {
     "cell_type": "code",
     "collapsed": false,
     "input": [
      "# 1C - Inverse Transformation\n",
      "\n",
      "# Segregate anomalies from true measurements\n",
      "true_measurements, anomalies = helpers.inverse_transformation(lookup_table, aggregate_ellipsoid)"
     ],
     "language": "python",
     "metadata": {},
     "outputs": [],
     "prompt_number": 5
    },
    {
     "cell_type": "heading",
     "level": 2,
     "metadata": {},
     "source": [
      "Phase Four - Visually Model Data"
     ]
    },
    {
     "cell_type": "code",
     "collapsed": false,
     "input": [
      "\"\"\"\n",
      "Begin phase four - Visually model data\n",
      "\"\"\"\n",
      "\n",
      "# Relevant imports for plotting\n",
      "from pylab import figure, show, rand\n",
      "from matplotlib.patches import Ellipse\n",
      "\n",
      "# FIXME:(hrybacki)\n",
      "\n",
      "# Generate example ellipsoid\n",
      "NUM = 1\n",
      "ells = [Ellipse(xy=rand(2)*10, width=rand()+5, height=rand()+4, angle=rand()*360)\n",
      "        for i in range(NUM)]\n",
      "fig = figure()\n",
      "ax = fig.add_subplot(111, aspect='equal')\n",
      "for e in ells:\n",
      "    ax.add_artist(e)\n",
      "    e.set_clip_box(ax.bbox)\n",
      "    e.set_alpha(rand())\n",
      "    e.set_facecolor(rand(3))\n",
      "\n",
      "ax.set_xlim(0, 10)\n",
      "ax.set_ylim(0, 10)\n",
      "\n",
      "# Add true measurements in blue\n",
      "for reading in true_measurements:\n",
      "    fig.plot(reading, 'bo')\n",
      "\n",
      "# Add anomalies in red\n",
      "for reading in anamolies:\n",
      "    fig.plot(reading, 'ro')\n",
      "\n",
      "show()"
     ],
     "language": "python",
     "metadata": {},
     "outputs": [
      {
       "metadata": {},
       "output_type": "display_data",
       "png": "[encoded data removed]",
       "text": [
        "<matplotlib.figure.Figure at 0x120da0110>"
       ]
      }
     ],
     "prompt_number": 30
    },
    {
     "cell_type": "heading",
     "level": 3,
     "metadata": {},
     "source": [
      "Save Plot?"
     ]
    },
    {
     "cell_type": "code",
     "collapsed": false,
     "input": [
      "# save plot to disk\n",
      "filename = \"\" + \".png\"\n",
      "fig.save(filename)"
     ],
     "language": "python",
     "metadata": {},
     "outputs": []
    },
    {
     "cell_type": "code",
     "collapsed": false,
     "input": [
      "print \"Completed...\""
     ],
     "language": "python",
     "metadata": {},
     "outputs": [
      {
       "output_type": "stream",
       "stream": "stdout",
       "text": [
        "Completed...\n"
       ]
      }
     ],
     "prompt_number": 20
    }
   ],
   "metadata": {}
  }
 ]
}