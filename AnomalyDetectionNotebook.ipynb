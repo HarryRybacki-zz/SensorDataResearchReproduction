{
 "metadata": {
  "name": "",
  "signature": "sha256:003dd52287f73bc00d51f8570da0d3d75df5a7afe1747423eebdb39608e7bccb"
 },
 "nbformat": 3,
 "nbformat_minor": 0,
 "worksheets": [
  {
   "cells": [
    {
     "cell_type": "code",
     "collapsed": false,
     "input": [
      "%matplotlib inline\n",
      "\n",
      "\"\"\"CSC490 Work Notebook -- Harry Rybacki\n",
      "I have abided by the UNCG Academic Honor Code. 3Sep14\n",
      "\"\"\"\n",
      "\n",
      "# Import necessary libraries\n",
      "import matplotlib as plt\n",
      "import prettyplotlib as ppl\n",
      "import pprint\n",
      "\n",
      "import helpers"
     ],
     "language": "python",
     "metadata": {},
     "outputs": [],
     "prompt_number": 1
    },
    {
     "cell_type": "heading",
     "level": 2,
     "metadata": {},
     "source": [
      "Phase One - Read Input"
     ]
    },
    {
     "cell_type": "code",
     "collapsed": false,
     "input": [
      "\"\"\"\n",
      "Begin phase one - Read Input\n",
      "\n",
      "Note: This phase will need slight tweaking for each data source as they do not follow a truly standard data format.\n",
      "As a result, interfaces will likely need to be written for each source akin to read_ibrl_data()\n",
      "\n",
      "Note: While I had originally intended to use Pandas DataFrame objects to store / manipulate the data I opted out as\n",
      "it expects each column (sensor) to be of the same length (number of measurements) but that isn't the case with the IBRL\n",
      "dataset. I could cast each column to a Pandas Series (1 dimensional vector object) and add each Series to the DataFrame\n",
      "but that might be overkill. For know I am using a simple dictionary mapping each sensor to a list of tuples containing\n",
      "temperature and humidity data.\n",
      "\"\"\"\n",
      "# location of IBRL sensor measurements dataset\n",
      "ibrl_sensor_measurements_file = \"./datasets/data2.txt\"\n",
      "\n",
      "# Create dictionary of original sensors mapping to their measurements\n",
      "measurements = helpers.read_ibrl_data(ibrl_sensor_measurements_file)"
     ],
     "language": "python",
     "metadata": {},
     "outputs": [
      {
       "output_type": "stream",
       "stream": "stdout",
       "text": [
        "Total rows: 2313153\n",
        "Total incomplete rows: 93350\n"
       ]
      }
     ],
     "prompt_number": 2
    },
    {
     "cell_type": "heading",
     "level": 2,
     "metadata": {},
     "source": [
      "Phase Two - Process Data"
     ]
    },
    {
     "cell_type": "heading",
     "level": 3,
     "metadata": {},
     "source": [
      "Perform Transformation"
     ]
    },
    {
     "cell_type": "code",
     "collapsed": false,
     "input": [
      "\"\"\"\n",
      "Begin phase two - Process Data\n",
      "\"\"\"\n",
      "# 1A - Transformation\n",
      "\n",
      "# Shuffle measurements\n",
      "shuffled_measurements = helpers.randomize_readings(measurements)\n",
      "\n",
      "# Calculate successive differences\n",
      "differences = helpers.generate_differences(shuffled_measurements)"
     ],
     "language": "python",
     "metadata": {},
     "outputs": [],
     "prompt_number": 3
    },
    {
     "cell_type": "heading",
     "level": 3,
     "metadata": {},
     "source": [
      "Perform Ellipsoid boundary Modeling"
     ]
    },
    {
     "cell_type": "code",
     "collapsed": false,
     "input": [
      "# 1B - Ellipsoid Boundary Modeling\n",
      "print len(differences['11'])\n",
      "print len(shuffled_measurements['11'])\n",
      "\n",
      "def calculate_sensor_orrientation(sensor_data):\n",
      "    \"\"\"Calculates the ellipsoid orrientation using linear regression and returns the angle theta\"\"\"\n",
      "    n = len(sensor_data)\n",
      "    "
     ],
     "language": "python",
     "metadata": {},
     "outputs": [
      {
       "output_type": "stream",
       "stream": "stdout",
       "text": [
        "41832\n",
        "41833\n"
       ]
      }
     ],
     "prompt_number": 4
    },
    {
     "cell_type": "heading",
     "level": 3,
     "metadata": {},
     "source": [
      "Perform Inverse Transformation"
     ]
    },
    {
     "cell_type": "code",
     "collapsed": false,
     "input": [
      "# 1C - Inverse Transformation"
     ],
     "language": "python",
     "metadata": {},
     "outputs": [],
     "prompt_number": 5
    },
    {
     "cell_type": "heading",
     "level": 2,
     "metadata": {},
     "source": [
      "Phase Four - Visually Model Data"
     ]
    },
    {
     "cell_type": "code",
     "collapsed": false,
     "input": [
      "\"\"\"\n",
      "Begin phase four - Visually model data\n",
      "\"\"\""
     ],
     "language": "python",
     "metadata": {},
     "outputs": [
      {
       "metadata": {},
       "output_type": "pyout",
       "prompt_number": 6,
       "text": [
        "'\\nBegin phase four - Visually model data\\n'"
       ]
      }
     ],
     "prompt_number": 6
    },
    {
     "cell_type": "code",
     "collapsed": false,
     "input": [
      "print \"Completed...\""
     ],
     "language": "python",
     "metadata": {},
     "outputs": [
      {
       "output_type": "stream",
       "stream": "stdout",
       "text": [
        "Completed...\n"
       ]
      }
     ],
     "prompt_number": 7
    },
    {
     "cell_type": "code",
     "collapsed": false,
     "input": [
      "pwd"
     ],
     "language": "python",
     "metadata": {},
     "outputs": [
      {
       "metadata": {},
       "output_type": "pyout",
       "prompt_number": 8,
       "text": [
        "u'/Users/hrybacki/git/SensorDataResearchReproduction'"
       ]
      }
     ],
     "prompt_number": 8
    },
    {
     "cell_type": "code",
     "collapsed": false,
     "input": [],
     "language": "python",
     "metadata": {},
     "outputs": [],
     "prompt_number": 8
    },
    {
     "cell_type": "code",
     "collapsed": false,
     "input": [],
     "language": "python",
     "metadata": {},
     "outputs": [],
     "prompt_number": 8
    },
    {
     "cell_type": "code",
     "collapsed": false,
     "input": [],
     "language": "python",
     "metadata": {},
     "outputs": []
    }
   ],
   "metadata": {}
  }
 ]
}